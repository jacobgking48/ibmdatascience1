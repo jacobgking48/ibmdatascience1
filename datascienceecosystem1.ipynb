{
 "cells": [
  {
   "cell_type": "markdown",
   "id": "9cda5272-9f35-4df8-bb05-e55eb17dbfc6",
   "metadata": {},
   "source": [
    "# Data Science Tools and Ecosystem"
   ]
  },
  {
   "cell_type": "markdown",
   "id": "5120f50f-9470-4aa9-8fc9-04e1767baf02",
   "metadata": {},
   "source": [
    "In this notebook, Data Science Tools and Ecosystem are summarized."
   ]
  },
  {
   "cell_type": "markdown",
   "id": "2476fc9c-eb47-4e6c-998a-34dd4c94f030",
   "metadata": {},
   "source": [
    "__Objectives:__\n",
    "* Popular Data Science Languages\n",
    "* Open-Source Tools\n",
    "* Arithmetic in Python"
   ]
  },
  {
   "cell_type": "markdown",
   "id": "d60e4c98-3b22-4184-a676-4d33f2e90e13",
   "metadata": {},
   "source": [
    "Some of the popular languages that Data Scientists use are:\n",
    "1. Python\n",
    "2. R Language\n",
    "3. Julia"
   ]
  },
  {
   "cell_type": "markdown",
   "id": "2a884f3f-d071-4f83-bb0f-3e060a7f8311",
   "metadata": {},
   "source": [
    "Some of the commonly used libraries used by Data Scientists include:\n",
    "1. NumPy\n",
    "2. Pandas\n",
    "3. Keras"
   ]
  },
  {
   "cell_type": "markdown",
   "id": "3328edc0-ee36-4dac-9221-181fffda90ec",
   "metadata": {},
   "source": [
    "| Data Science Tools|\n",
    "----------------------\n",
    "|R Studio|\n",
    "|Apache Spark|\n",
    "|TensorFlow|"
   ]
  },
  {
   "cell_type": "markdown",
   "id": "7e880705-91c7-4edc-b0a2-1212c0d15bc3",
   "metadata": {},
   "source": [
    "### Below are a few examples of evaluating arithmetic expressions in Python"
   ]
  },
  {
   "cell_type": "markdown",
   "id": "95b2a4af-9b17-430a-90d0-be2f03d3d2ee",
   "metadata": {},
   "source": [
    " _This a simple arithmetic expression to mutiply then add integers_"
   ]
  },
  {
   "cell_type": "code",
   "execution_count": 3,
   "id": "29db08f3-7dc6-4d31-a41f-318fddbfe251",
   "metadata": {
    "tags": []
   },
   "outputs": [
    {
     "data": {
      "text/plain": [
       "17"
      ]
     },
     "execution_count": 3,
     "metadata": {},
     "output_type": "execute_result"
    }
   ],
   "source": [
    "(3*4)+5"
   ]
  },
  {
   "cell_type": "markdown",
   "id": "1f8b0f77-3807-46bf-8704-c131d07486e6",
   "metadata": {},
   "source": [
    "_This will convert 200 minutes to hours by diving by 60_"
   ]
  },
  {
   "cell_type": "code",
   "execution_count": 4,
   "id": "f776d205-6e7e-4a12-a526-ab8ad03817c4",
   "metadata": {
    "tags": []
   },
   "outputs": [
    {
     "data": {
      "text/plain": [
       "3.3333333333333335"
      ]
     },
     "execution_count": 4,
     "metadata": {},
     "output_type": "execute_result"
    }
   ],
   "source": [
    "200/60"
   ]
  },
  {
   "cell_type": "markdown",
   "id": "f1876f28-f74f-4157-8250-5afb9eb780d2",
   "metadata": {},
   "source": [
    "## Author\n",
    "Jacob King"
   ]
  },
  {
   "cell_type": "code",
   "execution_count": null,
   "id": "afe93ce1-0203-46b8-952f-a21ddef4d212",
   "metadata": {},
   "outputs": [],
   "source": []
  }
 ],
 "metadata": {
  "kernelspec": {
   "display_name": "Python",
   "language": "python",
   "name": "conda-env-python-py"
  },
  "language_info": {
   "codemirror_mode": {
    "name": "ipython",
    "version": 3
   },
   "file_extension": ".py",
   "mimetype": "text/x-python",
   "name": "python",
   "nbconvert_exporter": "python",
   "pygments_lexer": "ipython3",
   "version": "3.7.12"
  }
 },
 "nbformat": 4,
 "nbformat_minor": 5
}
